{
 "cells": [
  {
   "cell_type": "code",
   "execution_count": 41,
   "id": "657f31cc-a3a4-4abb-a2a8-26608e060ab1",
   "metadata": {},
   "outputs": [],
   "source": [
    "import requests\n",
    "import pandas as pd\n",
    "import matplotlib.pyplot as plt"
   ]
  },
  {
   "cell_type": "code",
   "execution_count": 42,
   "id": "72ceb007-6a09-4cc9-8cef-7c837e4a96b5",
   "metadata": {},
   "outputs": [],
   "source": [
    "# Constants for the API request\n",
    "API_BASE_URL = \"https://api.census.gov/data/2020/acs/acs5\"\n",
    "API_KEY = \"ab5951c29c17af86ce00bcc921d36eaa7f678475\"  # Replace with the actual API key\n",
    "STATE_FIPS = \"17\"  # Illinois State FIPS code\n",
    "\n",
    "# County FIPS codes within Illinois for the CMAP region\n",
    "COUNTY_FIPS_CODES = [\n",
    "    '031',  # Cook\n",
    "    '043',  # DuPage\n",
    "    '089',  # Kane\n",
    "    '093',  # Kendall\n",
    "    '097',  # Lake\n",
    "    '111',  # McHenry\n",
    "    '197'   # Will\n",
    "]"
   ]
  },
  {
   "cell_type": "code",
   "execution_count": 43,
   "id": "85459f62-3128-45f2-9a5f-1e04e48bbd47",
   "metadata": {},
   "outputs": [],
   "source": [
    "# Age group variable codes in ACS B01001 table (This needs to be updated with actual codes)\n",
    "AGE_GROUP_VARIABLES = {\n",
    "    '0-4': ['B01001_003E', 'B01001_027E'],\n",
    "    '5-19': ['B01001_004E', 'B01001_005E','B01001_006E', 'B01001_007E','B01001_028E', 'B01001_029E','B01001_030E', 'B01001_031E'],\n",
    "    '20-34': ['B01001_008E', 'B01001_009E','B01001_010E', 'B01001_011E','B01001_012E', 'B01001_032E','B01001_033E', 'B01001_034E','B01001_035E', 'B01001_036E'],\n",
    "    '35-49': ['B01001_013E', 'B01001_014E','B01001_015E', 'B01001_037E','B01001_038E', 'B01001_039E'],\n",
    "    '50-64': ['B01001_016E', 'B01001_017E','B01001_018E', 'B01001_019E','B01001_040E', 'B01001_041E','B01001_042E', 'B01001_043E'],\n",
    "    '65-74': ['B01001_020E', 'B01001_021E','B01001_022E', 'B01001_044E','B01001_045E', 'B01001_046E'],\n",
    "    '75-84': ['B01001_023E', 'B01001_024E','B01001_047E', 'B01001_048E'],\n",
    "    '+84': ['B01001_025E', 'B01001_049E'],\n",
    "    }"
   ]
  },
  {
   "cell_type": "code",
   "execution_count": 44,
   "id": "298b1663-672a-4243-89c0-4b2d1c0f7917",
   "metadata": {},
   "outputs": [],
   "source": [
    "# Function to fetch data for a single county\n",
    "def fetch_data_for_county(county_fips_code):\n",
    "    # Construct the query parameters for the request\n",
    "    variables = \"NAME,\" + \",\".join([f\"B01001_{i:03d}E\" for i in range(1, 50)])  # Update with actual variables needed\n",
    "    url = f\"{API_BASE_URL}?get={variables}&for=county:{county_fips_code}&in=state:{STATE_FIPS}&key={API_KEY}\"\n",
    "    response = requests.get(url)\n",
    "    return response.json()\n",
    "\n",
    "# Function to fetch data for all CMAP counties\n",
    "def fetch_all_data():\n",
    "    all_data = []\n",
    "    for county_fips in COUNTY_FIPS_CODES:\n",
    "        county_data = fetch_data_for_county(county_fips)\n",
    "        # Skip the header row for all but the first county\n",
    "        if all_data:\n",
    "            county_data = county_data[1:]\n",
    "        all_data.extend(county_data)\n",
    "    return all_data"
   ]
  },
  {
   "cell_type": "code",
   "execution_count": 45,
   "id": "a9128ae2-c63f-4893-ab90-3f231bf34b5e",
   "metadata": {},
   "outputs": [],
   "source": [
    "# Function to convert JSON to DataFrame\n",
    "def json_to_dataframe(json_data):\n",
    "    header = json_data[0]\n",
    "    data = json_data[1:]\n",
    "    df = pd.DataFrame(data, columns=header)\n",
    "    return df"
   ]
  },
  {
   "cell_type": "code",
   "execution_count": 46,
   "id": "c40a858e-038a-4930-a90c-a7f1ed1be329",
   "metadata": {},
   "outputs": [],
   "source": [
    "# Function to aggregate data into the specified age ranges\n",
    "def aggregate_data(df):\n",
    "    # Initialize a dictionary to hold the aggregated data\n",
    "    aggregated_data = {}\n",
    "    for age_group, variables in AGE_GROUP_VARIABLES.items():\n",
    "        # Sum the male and female counts for each age group\n",
    "        df[age_group] = df[variables].astype(int).sum(axis=1)\n",
    "        # Sum across all counties to get the total for each age group\n",
    "        aggregated_data[age_group] = df[age_group].sum()\n",
    "    return aggregated_data"
   ]
  },
  {
   "cell_type": "code",
   "execution_count": 47,
   "id": "eb03bf28-acb1-4061-9006-a297ec5e2e8e",
   "metadata": {},
   "outputs": [],
   "source": [
    "# Function to export data to CSV\n",
    "def export_to_csv(aggregated_data):\n",
    "    total_population = sum(aggregated_data.values())\n",
    "    data_for_csv = {\n",
    "        'Age Range': list(aggregated_data.keys()),\n",
    "        'Population': list(aggregated_data.values()),\n",
    "        'Percent of Total Population': [(count / total_population) * 100 for count in aggregated_data.values()]\n",
    "    }\n",
    "    df_for_csv = pd.DataFrame(data_for_csv)\n",
    "    df_for_csv.to_csv('cmap_population_by_age_group.csv', index=False)"
   ]
  },
  {
   "cell_type": "code",
   "execution_count": 48,
   "id": "c7f5ad39-1ffd-4fa4-861f-d9c8a4599959",
   "metadata": {},
   "outputs": [],
   "source": [
    "# Function to display the aggregated data as a table in the Jupyter Notebook\n",
    "def display_aggregated_data(aggregated_data):\n",
    "    total_population = sum(aggregated_data.values())\n",
    "    data_for_display = {\n",
    "        'Age Range': list(aggregated_data.keys()),\n",
    "        'Population': list(aggregated_data.values()),\n",
    "        'Percent of Total Population': [f\"{(count / total_population) * 100:.2f}%\" for count in aggregated_data.values()]\n",
    "    }\n",
    "    df_for_display = pd.DataFrame(data_for_display)\n",
    "    display(df_for_display)"
   ]
  },
  {
   "cell_type": "code",
   "execution_count": 49,
   "id": "4cabe8ea-56cf-49ee-a6ba-d7a187d2fd7b",
   "metadata": {},
   "outputs": [],
   "source": [
    "# Function to create a pyramid chart\n",
    "def create_pyramid_chart(aggregated_data):\n",
    "    age_groups = list(aggregated_data.keys())\n",
    "    population_percentages = [(count / sum(aggregated_data.values())) * 100 for count in aggregated_data.values()]\n",
    "    plt.barh(age_groups, population_percentages)\n",
    "    plt.xlabel('Percent of Total Population')\n",
    "    plt.title('Population Pyramid for CMAP Region')\n",
    "    plt.savefig('population_pyramid.png')"
   ]
  },
  {
   "cell_type": "code",
   "execution_count": 40,
   "id": "aa70a027-629e-4cf2-88d1-5b9e14d6a7a0",
   "metadata": {},
   "outputs": [
    {
     "data": {
      "text/html": [
       "<div>\n",
       "<style scoped>\n",
       "    .dataframe tbody tr th:only-of-type {\n",
       "        vertical-align: middle;\n",
       "    }\n",
       "\n",
       "    .dataframe tbody tr th {\n",
       "        vertical-align: top;\n",
       "    }\n",
       "\n",
       "    .dataframe thead th {\n",
       "        text-align: right;\n",
       "    }\n",
       "</style>\n",
       "<table border=\"1\" class=\"dataframe\">\n",
       "  <thead>\n",
       "    <tr style=\"text-align: right;\">\n",
       "      <th></th>\n",
       "      <th>Age Range</th>\n",
       "      <th>Population</th>\n",
       "      <th>Percent of Total Population</th>\n",
       "    </tr>\n",
       "  </thead>\n",
       "  <tbody>\n",
       "    <tr>\n",
       "      <th>0</th>\n",
       "      <td>0-4</td>\n",
       "      <td>508895</td>\n",
       "      <td>6.02%</td>\n",
       "    </tr>\n",
       "    <tr>\n",
       "      <th>1</th>\n",
       "      <td>5-19</td>\n",
       "      <td>1624354</td>\n",
       "      <td>19.22%</td>\n",
       "    </tr>\n",
       "    <tr>\n",
       "      <th>2</th>\n",
       "      <td>20-34</td>\n",
       "      <td>1781246</td>\n",
       "      <td>21.08%</td>\n",
       "    </tr>\n",
       "    <tr>\n",
       "      <th>3</th>\n",
       "      <td>35-49</td>\n",
       "      <td>1688609</td>\n",
       "      <td>19.98%</td>\n",
       "    </tr>\n",
       "    <tr>\n",
       "      <th>4</th>\n",
       "      <td>50-64</td>\n",
       "      <td>1625883</td>\n",
       "      <td>19.24%</td>\n",
       "    </tr>\n",
       "    <tr>\n",
       "      <th>5</th>\n",
       "      <td>65-74</td>\n",
       "      <td>713897</td>\n",
       "      <td>8.45%</td>\n",
       "    </tr>\n",
       "    <tr>\n",
       "      <th>6</th>\n",
       "      <td>75-84</td>\n",
       "      <td>348205</td>\n",
       "      <td>4.12%</td>\n",
       "    </tr>\n",
       "    <tr>\n",
       "      <th>7</th>\n",
       "      <td>+84</td>\n",
       "      <td>160449</td>\n",
       "      <td>1.90%</td>\n",
       "    </tr>\n",
       "  </tbody>\n",
       "</table>\n",
       "</div>"
      ],
      "text/plain": [
       "  Age Range  Population Percent of Total Population\n",
       "0       0-4      508895                       6.02%\n",
       "1      5-19     1624354                      19.22%\n",
       "2     20-34     1781246                      21.08%\n",
       "3     35-49     1688609                      19.98%\n",
       "4     50-64     1625883                      19.24%\n",
       "5     65-74      713897                       8.45%\n",
       "6     75-84      348205                       4.12%\n",
       "7       +84      160449                       1.90%"
      ]
     },
     "metadata": {},
     "output_type": "display_data"
    },
    {
     "data": {
      "image/png": "[encoded data removed]",
      "text/plain": [
       "<Figure size 640x480 with 1 Axes>"
      ]
     },
     "metadata": {},
     "output_type": "display_data"
    }
   ],
   "source": [
    "# Main execution\n",
    "if __name__ == \"__main__\":\n",
    "    json_data = fetch_all_data()\n",
    "    df = json_to_dataframe(json_data)\n",
    "    aggregated_data = aggregate_data(df)\n",
    "    \n",
    "    # Display the aggregated data as a table in the Jupyter Notebook\n",
    "    display_aggregated_data(aggregated_data)\n",
    "    export_to_csv(aggregated_data)\n",
    "    create_pyramid_chart(aggregated_data)"
   ]
  },
  {
   "cell_type": "markdown",
   "id": "9c800815-761a-4d1c-83f8-931a56dc459f",
   "metadata": {},
   "source": [
    "<table>\n",
    "  <tr>\n",
    "    <td style=\"border-right:1px solid black;\"><strong>Data Source</strong></td>\n",
    "    <td>The graph is based on data from the American Community Survey (ACS) for the years 2016-2020, specifically the detailed table B01001 which provides sex by age data.</td>\n",
    "  </tr>\n",
    "  <tr>\n",
    "    <td style=\"border-right:1px solid black;\"><strong>Highest Age Group</strong></td>\n",
    "    <td>The age group '20-34' (Millennials) has the highest percentage of the population, accounting for approximately 21.08% of the total population in the CMAP region.</td>\n",
    "  </tr>\n",
    "  <tr>\n",
    "    <td style=\"border-right:1px solid black;\"><strong>Geographical Scope</strong></td>\n",
    "    <td>The data is for the CMAP region, which includes the seven Illinois counties of Cook, DuPage, Kane, Kendall, Lake, McHenry, and Will.</td>\n",
    "  </tr>\n",
    "  <tr>\n",
    "    <td style=\"border-right:1px solid black;\"><strong>Time Frame</strong></td>\n",
    "    <td>The data reflects a 5-year estimate, which means it is not for a specific year but rather collected over a period of 5 years (2016-2020). This approach provides a larger sample size, which can be useful for analyzing populations in smaller areas (like counties) where annual sample sizes might be too small for accurate estimates.</td>\n",
    "  </tr>\n",
    "  <tr>\n",
    "    <td colspan=\"2\" style=\"border-bottom:1px solid black;\"><strong>More Details</strong></td>\n",
    "  </tr>\n",
    "  <tr>\n",
    "    <td style=\"border-right:1px solid black;\">The age group '0-4' years (Gen Z and later)</td>\n",
    "    <td>makes up 6.02% of the population, indicating the proportion of very young residents in the region.</td>\n",
    "  </tr>\n",
    "  <tr>\n",
    "    <td style=\"border-right:1px solid black;\">The '5-19' years (Gen Z and later) and '35-49' years (Gen X) age groups</td>\n",
    "    <td>are relatively similar in size, each making up just under 20% of the population. This could indicate stability in the population's age distribution over time.</td>\n",
    "  </tr>\n",
    "  <tr>\n",
    "    <td style=\"border-right:1px solid black;\">The '50-64' years age group (Boomers)</td>\n",
    "    <td>also holds a significant portion of the population, at 19.24%, which suggests that the population is aging, as this group will move into the older age categories over time.</td>\n",
    "  </tr>\n",
    "  <tr>\n",
    "    <td style=\"border-right:1px solid black;\">The '65-74' years age group</td>\n",
    "    <td>represents 8.45% of the population, showing a smaller but still significant segment of elderly residents.</td>\n",
    "  </tr>\n",
    "  <tr>\n",
    "    <td style=\"border-right:1px solid black;\">The '75-84' years and '85+' years age groups</td>\n",
    "    <td>are the smallest, at 4.12% and 1.90% respectively, which is common as the population naturally decreases with age.</td>\n",
    "  </tr>\n",
    "</table>"
   ]
  },
  {
   "cell_type": "code",
   "execution_count": null,
   "id": "803e9b65-249d-488e-9f3a-17a04975afb7",
   "metadata": {},
   "outputs": [],
   "source": []
  }
 ],
 "metadata": {
  "kernelspec": {
   "display_name": "Python 3 (ipykernel)",
   "language": "python",
   "name": "python3"
  },
  "language_info": {
   "codemirror_mode": {
    "name": "ipython",
    "version": 3
   },
   "file_extension": ".py",
   "mimetype": "text/x-python",
   "name": "python",
   "nbconvert_exporter": "python",
   "pygments_lexer": "ipython3",
   "version": "3.12.0"
  }
 },
 "nbformat": 4,
 "nbformat_minor": 5
}
